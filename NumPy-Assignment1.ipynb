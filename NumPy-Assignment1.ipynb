{
 "cells": [
  {
   "cell_type": "markdown",
   "id": "421c3f67-d226-4d18-ba38-87ba0c495144",
   "metadata": {},
   "source": [
    "# Assignments \n",
    "# Numpy"
   ]
  },
  {
   "cell_type": "markdown",
   "id": "1c2563f0-aa5e-4160-beb4-0407fc410dd8",
   "metadata": {},
   "source": [
    "Theoretical Questions:"
   ]
  },
  {
   "cell_type": "markdown",
   "id": "4a6c97da-f5e8-4bd6-bcb4-a0ae56b87f22",
   "metadata": {},
   "source": [
    "Q1.  Explain the purpose and advantages of NumPy in scientific computing and data analysis. How does it enhance Python's capabilities for numerical operations?"
   ]
  },
  {
   "cell_type": "markdown",
   "id": "97199362-a765-468a-b289-1a47dd93254a",
   "metadata": {},
   "source": [
    "Ans. NumPy (Numerical Python) is a fundamental liberary in Python for numerical computations. It provides support for multi-dimensional arrays, mathematical functions, and linear algebra operations, making it essential for scientific computing and data analysis.\n",
    "\n",
    "Advantage of NumPy:\n",
    "1. Effcient Dara Structures\n",
    "   * NumPy arrays (ndarray) are more-efficient and faster than Python lists.\n",
    "   * They store elements of the same data type in contiguous memory blocks, enabling quick access and modification.\n",
    "2. Performance Optimization\n",
    "   * NumPy uses optimized C and Fortan liberaries under the hood.\n",
    "   * Operations on NumPy arrays are vectorized, meaning they are executed in compiled C code rather than Python loops, leading to signifies speed improvements.\n",
    "3. Comprehensive Mathematical Functions\n",
    "   * Supports a wide range of functions: linear algebra, Fourier transforms, random number generation, statistics, and more.\n",
    "4. Broadcasting\n",
    "   * Allows arithmetic operations on arrays of different shapes without explicit looping, improving efficiency and readability\n",
    "5. Interoperability\n",
    "   * Can interface with C, C++, and Fortran, making it useful for integrating Python with high-performance codebases.\n",
    "6. Ease of Use with Other Libraries\n",
    "   * Forms the foundation for Pandas, SciPy, Scikit-Learn, TensorFlow, and Matplotlib, making it integral to data science and machine learning.\n",
    "  \n",
    "How NumPy Enhances Python’s Numerical Capabilities:\n",
    "1. Array-Based Computation\n",
    "   * Unlike Python lists, NumPy arrays allow element-wise computations in a single operation, reducing execution time.\n",
    "2. Efficient Memory Usage\n",
    "   * NumPy arrays consume less memory due to their fixed data type and contiguous memory allocation.\n",
    "3. Advanced Indexing and Slicing\n",
    "   * Enables fast retrieval and manipulation of data, supporting boolean indexing, fancy indexing, and slicing.\n",
    "4. Parallelism and Multi-threading\n",
    "   * Uses optimized BLAS (Basic Linear Algebra Subprograms) and LAPACK (Linear Algebra Package) libraries to enable multi-threaded computations.\n",
    "5. Handling Large Datasets\n",
    "   * Essential for big data and high-performance computing, as it provides fast numerical operations on large datasets."
   ]
  },
  {
   "cell_type": "markdown",
   "id": "2140967b-281d-4150-a9ed-4c4d308a6ff4",
   "metadata": {},
   "source": [
    "Q2.  Compare and contrast np.mean() and np.average() functions in NumPy. When would you use one over the\n",
    "other? "
   ]
  },
  {
   "cell_type": "markdown",
   "id": "3cffde2d-6913-42cc-bf8e-d2ba947b5c09",
   "metadata": {},
   "source": [
    "Ans. Comparison of np.mean() and np.average() in NumPy\n",
    "Both np.mean() and np.average() compute the arithmetic mean of an array, but they differ in how they handle weighting.\n",
    "* np.mean() calculates the simple arithmetic mean by summing all elements and dividing by the total number of elements. It does not support weighting and treats all elements equally.\n",
    "* np.average() can compute both a simple mean and a weighted mean. If no weights are provided, it functions like np.mean(). When weights are specified, it calculates the weighted mean, giving different levels of importance to different values.\n",
    "\n",
    "Key Differences\n",
    "* np.mean() is used for uniform data where all values contribute equally.\n",
    "* np.average() is used when certain values should have a greater influence, such as in weighted grading, financial data, or probability distributions.\n",
    "\n",
    "When to use which:\n",
    "* Use np.mean() for general statistical calculations where all values have equal significance.\n",
    "* Use np.average() when weighting is required to emphasize specific data points."
   ]
  },
  {
   "cell_type": "markdown",
   "id": "f38678ae-4189-4994-9648-ad1db106203c",
   "metadata": {},
   "source": [
    "Q3.  Describe the methods for reversing a NumPy array along different axes. Provide examples for 1D and 2D\n",
    "arrays."
   ]
  },
  {
   "cell_type": "markdown",
   "id": "0bd5349a-644c-4710-9729-914a795e5d5d",
   "metadata": {},
   "source": [
    "Ans. NumPy provides multiple methods to reverse an array depending on its dimensions and the axis along which the reversal is required.\n",
    "1. Using Slicin([::-1])\n",
    "   * This is the simplest and most efficient way to reverse an array.\n",
    "   * It can be used to reverse a 1D array entirely or reverse specific axes in a 2D array.\n",
    "   * For a 1D array, applying [::-1] reverses the order of elements.\n",
    "   * In a 2D array, using [::-1] along the first axis reverses the row order, while [:, ::-1] reverses the column order.\n",
    "2. Using np.flip()\n",
    "   * This function provides a generalized way to reverse an array along a specific axis.\n",
    "   * It allows reversal along multiple dimensions by specifying the axis parameter.\n",
    "   * For 1D arrays, it functions similarly to slicing.\n",
    "   * For 2D arrays, np.flip() with axis=0 reverses rows, while axis=1 reverses columns.\n",
    "   * If no axis is specified, it reverses all dimensions.\n",
    "3. Using np.flipud() and np.flipr()\n",
    "   * np.flipud() specifically reverses an array vertically, flipping it upside down.\n",
    "   * np.fliplr() reverses an array horizontally, flipping it left to right.\n",
    "   * These functions are useful for structured transformations in image processing or matrix operations.\n",
    "\n",
    "1D Array Example:"
   ]
  },
  {
   "cell_type": "code",
   "execution_count": 6,
   "id": "72fc2c57-06a7-4c9e-a89f-75daa837aa28",
   "metadata": {},
   "outputs": [
    {
     "name": "stdout",
     "output_type": "stream",
     "text": [
      "[5 4 3 2 1]\n"
     ]
    }
   ],
   "source": [
    "import numpy as np\n",
    "arr = np.array([1, 2, 3, 4, 5])\n",
    "reversed_arr = arr[::-1]\n",
    "print(reversed_arr)\n"
   ]
  },
  {
   "cell_type": "markdown",
   "id": "dcb2bbd8-1a83-42df-b730-6bd4cce72a96",
   "metadata": {},
   "source": [
    "2D Array Example:"
   ]
  },
  {
   "cell_type": "code",
   "execution_count": 8,
   "id": "0ee049d3-e4ea-4032-91f3-3edd423f5abc",
   "metadata": {},
   "outputs": [
    {
     "name": "stdout",
     "output_type": "stream",
     "text": [
      "[[7 8 9]\n",
      " [4 5 6]\n",
      " [1 2 3]]\n"
     ]
    }
   ],
   "source": [
    "arr2d = np.array([[1, 2, 3], [4, 5, 6], [7, 8, 9]])\n",
    "reversed_rows = arr2d[::-1]  \n",
    "print(reversed_rows)"
   ]
  },
  {
   "cell_type": "markdown",
   "id": "6394c790-60d6-4337-b18d-aa6ef4de687e",
   "metadata": {},
   "source": [
    "Q4.  How can you determine the data type of elements in a NumPy array? Discuss the importance of data types\n",
    "in memory management and performance."
   ]
  },
  {
   "cell_type": "markdown",
   "id": "e502feb5-2234-4839-87cf-6ce682b98bef",
   "metadata": {},
   "source": [
    "Ans. The data type of elements in a NumPy array can be determined using the dtype attribute. This provides information about the type of data stored in the array, such as integers, floating-point numbers, or complex numbers.\n",
    "Importance of Data Types in Memory Management and Performance:\n",
    "1. Efficient Memory Usage\n",
    "   * NumPy arrays store elements in contiguous memory blocks, and selecting an appropriate data type helps optimize memory consumption.\n",
    "   * Using smaller data types, such as int8 instead of int64, can significantly reduce memory usage, especially for large datasets\n",
    "2. Performance Optimization\n",
    "   * NumPy operations are highly optimized for specific data types. Choosing the right data type can improve computational efficiency.\n",
    "   * Smaller data types require fewer CPU cycles for arithmetic operations, leading to faster execution\n",
    "3. Precision and Accuracy\n",
    "   * Selecting the correct data type ensures numerical precision.\n",
    "   * For instance, using float32 instead of float64 may lead to precision loss in scientific computations.\n",
    "4. Compatibility and Interoperability\n",
    "   * Ensuring data types match expected formats is important for compatibility with other libraries, databases, and external systems.\n",
    "   * Incorrect data types can cause unexpected behavior or conversion overhead.\n",
    "   "
   ]
  },
  {
   "cell_type": "markdown",
   "id": "e380dd51-1e60-4e3b-b704-93759fe0de26",
   "metadata": {},
   "source": [
    "Q5. Define ndarrays in NumPy and explain their key features. How do they differ from standard Python lists?"
   ]
  },
  {
   "cell_type": "markdown",
   "id": "cd8d91be-01e9-44f3-b706-b4da19d8d5ef",
   "metadata": {},
   "source": [
    "Ans. An ndarray (N-dimensional array) in NumPy is a multi-dimensional, homogeneous array that stores elements of the same data type in contiguous memory. It serves as the fundamental data structure for numerical computations in Python.\n",
    "\n",
    "Key Features of ndarray\n",
    "1. Homogeneous Data Type\n",
    "    * Unlike Python lists, NumPy arrays store elements of the same type, ensuring consistency and efficiency.\n",
    "2. Multi-Dimensional Support\n",
    "   * NumPy arrays can have one or more dimensions (1D, 2D, 3D, etc.), making them suitable for handling matrices and tensors.\n",
    "3. Efficient Memory Usage\n",
    "   * Arrays are stored in contiguous memory locations, reducing overhead and enabling fast data access.\n",
    "4. Vectorized Operations\n",
    "   * NumPy supports element-wise arithmetic operations without explicit loops, improving performance.\n",
    "5. Indexing and Slicing\n",
    "   * Supports advanced indexing, including slicing, boolean indexing, and fancy indexing, for efficient data manipulation.\n",
    "6. Broadcasting\n",
    "   * Allows operations between arrays of different shapes without needing explicit reshaping.\n",
    "\n",
    "Differences Between ndarray and Python Lists:\n",
    "1. NumPy (ndarray):\n",
    "   * Data Type - Homogeneous (single type)\n",
    "   * Performance - Fastest due to vectorization and contiguous memory storage\n",
    "   * Memory Usage - More efficient\n",
    "   * Operations - Support element-wise operations\n",
    "   * Multi-Dimensional Support - support multi-dimensional arrays\n",
    "3. Python Lists:\n",
    "   * Data Type - Hetrogeneous (mixed types allowed)\n",
    "   * Performance - Slower due to dynamic typing and non-contiguous memory\n",
    "   * Memory Usage - More memory overhead\n",
    "   * Operations - Requires explicit looping for operations\n",
    "   * Multi-Dimensional Support - Requires nested lists for multi-dimensional structures"
   ]
  },
  {
   "cell_type": "markdown",
   "id": "7cfdcd0b-421d-415c-b392-9c17cda0fbf1",
   "metadata": {},
   "source": [
    "Q6.  Analyze the performance benefits of NumPy arrays over Python lists for large-scale numerical operations."
   ]
  },
  {
   "cell_type": "markdown",
   "id": "e6e8b07a-259c-463f-973b-7d82f4f4a514",
   "metadata": {},
   "source": [
    "Ans. NumPy arrays (ndarray) offer significant performance advantages over Python lists, especially for large-scale numerical computations. These benefits arise from their memory efficiency, vectorized operations, and optimized backend implementations.\n",
    "1. Memory Efficiency:\n",
    "   * NumPy arrays consume less memory compared to Python lists because they store elements in contiguous memory blocks.\n",
    "   * Python lists store references to objects, leading to higher memory overhead.\n",
    "   * NumPy uses fixed-type storage, reducing unnecessary memory consumption.\n",
    "2. Faster Computations (Vectorization):\n",
    "   * NumPy arrays support vectorized operations, where element-wise computations are performed using optimized C-based routines.\n",
    "   * Python lists require explicit loops for element-wise operations, which are slow due to interpreted execution.\n",
    "   * Vectorization allows operations to be executed in parallel, utilizing CPU-level optimizations.\n",
    "3. Optimized Backend (BLAS & LAPACK):\n",
    "   * NumPy operations leverage highly optimized BLAS (Basic Linear Algebra Subprograms) and LAPACK (Linear Algebra Package) libraries.\n",
    "   * These libraries enable efficient matrix operations, linear algebra, and numerical computations, significantly boosting performance.\n",
    "4. Reduced Execution Overhead:\n",
    "   * Python lists require type checking and dynamic memory allocation for each element, slowing down operations.\n",
    "   * NumPy arrays are statically typed, eliminating the need for repeated type checking, resulting in faster execution.\n",
    "5. Broadcasting for Efficient Computation:\n",
    "   * NumPy supports broadcasting, allowing arithmetic operations on arrays of different shapes without explicit loops.\n",
    "   * This reduces computational complexity and speeds up large-scale operations.\n",
    "6. Multi-Core and Parallel Processing:\n",
    "   * NumPy leverages multi-threading and parallel computing, utilizing modern CPUs efficiently.\n",
    "   * Large-scale operations automatically run on multiple CPU cores, unlike Python lists, which execute sequentially."
   ]
  },
  {
   "cell_type": "markdown",
   "id": "97084140-1840-494a-83f9-ff1ca2766bce",
   "metadata": {},
   "source": [
    "Q7.  Compare vstack() and hstack() functions in NumPy. Provide examples demonstrating their usage and\n",
    "output."
   ]
  },
  {
   "attachments": {},
   "cell_type": "markdown",
   "id": "a19573ac-74c3-4abf-93cc-f66ef9fb6dd9",
   "metadata": {},
   "source": [
    "Ans. Both vstack() and hstack() are used to stack NumPy arrays along different axes, but they differ in their behavior:\n",
    "* vstack()\n",
    "  -Stacks Along - Vertocal(axis=0)\n",
    "  -Behaviour - Stacks arrays row-wise (adds rows)\n",
    "* hstack()\n",
    "  -Stacks Along - Horizontal (axis=1)\n",
    "  -Behaviour - Stacks arrays coloumn-wise (adds columns)\n",
    "\n",
    "Example of vstack():"
   ]
  },
  {
   "cell_type": "code",
   "execution_count": 10,
   "id": "48a23700-9ef8-4cb5-81e4-70d1cb487166",
   "metadata": {},
   "outputs": [
    {
     "name": "stdout",
     "output_type": "stream",
     "text": [
      "[[1 2]\n",
      " [3 4]\n",
      " [5 6]]\n"
     ]
    }
   ],
   "source": [
    "import numpy as np\n",
    "\n",
    "arr1 = np.array([[1, 2], [3, 4]])\n",
    "arr2 = np.array([[5, 6]])\n",
    "\n",
    "result = np.vstack((arr1, arr2))\n",
    "print(result)\n"
   ]
  },
  {
   "cell_type": "markdown",
   "id": "32e00437-7995-4a7f-86e2-b92feb968874",
   "metadata": {},
   "source": [
    "Example of hstack():"
   ]
  },
  {
   "cell_type": "code",
   "execution_count": 11,
   "id": "3d653b55-8da8-4ac1-adb5-e143af16a22a",
   "metadata": {},
   "outputs": [
    {
     "name": "stdout",
     "output_type": "stream",
     "text": [
      "[[1 2 5]\n",
      " [3 4 6]]\n"
     ]
    }
   ],
   "source": [
    "arr3 = np.array([[1, 2], [3, 4]])\n",
    "arr4 = np.array([[5], [6]])\n",
    "\n",
    "result = np.hstack((arr3, arr4))\n",
    "print(result)\n"
   ]
  },
  {
   "cell_type": "markdown",
   "id": "664a96e6-03ff-49f0-bab3-231704241e6c",
   "metadata": {},
   "source": [
    "Q8. Explain the differences between fliplr() and flipud() methods in NumPy, including their effects on various\n",
    "array dimensions."
   ]
  },
  {
   "cell_type": "markdown",
   "id": "edaf2e4c-b4a6-46bf-ae3f-cbccf9f495e2",
   "metadata": {},
   "source": [
    "Ans. Differences Between fliplr() and flipud() in NumPy\n",
    "1. fliplr() (Flip Left-Right)\n",
    "   * Flips the elements of an array horizontally, i.e., it reverses the order of elements within each row (left to right).\n",
    "   * This operation affects columns (axis 1)\n",
    "   * It is commonly used when you want to flip or reverse the columns of a matrix.\n",
    "2. flipud() (Flip Up-Down)\n",
    "   * Flips the elements of an array vertically, i.e., it reverses the order of the rows (top to bottom).\n",
    "   * This operation affects rows (axis 0).\n",
    "   * It is commonly used when you want to flip or reverse the rows of a matrix.\n",
    "\n",
    "Key Differences:\n",
    "* fliplr(): Reverses elements along the horizontal axis (columns).\n",
    "* flipud(): Reverses elements along the vertical axis (rows)\n",
    "Both functions are useful for different types of transformations, depending on whether the operation needs to be applied across rows or columns of an array."
   ]
  },
  {
   "cell_type": "markdown",
   "id": "1f17aae8-f530-431b-bd4a-f06c44f6385c",
   "metadata": {},
   "source": [
    "Q9.  Discuss the functionality of the array_split() method in NumPy. How does it handle uneven splits?"
   ]
  },
  {
   "cell_type": "markdown",
   "id": "136e144f-0528-48c2-9afb-0ce26993d3e0",
   "metadata": {},
   "source": [
    "Ans. Functionality of the array_split() Method in NumPy\n",
    "The array_split() method in NumPy is used to split an array into multiple sub-arrays. It allows an array to be divided into a specified number of equal parts along a given axis. This method is flexible and can handle cases where the number of elements in the array is not evenly divisible by the number of splits.\n",
    "\n",
    "How It Works:\n",
    "  * Input: The method takes the input array and a number (or indices) specifying how many parts the array should be split into.\n",
    "  * Output: It returns a list of sub-arrays\n",
    "\n",
    "Handling Uneven Splits:\n",
    "  * When the array cannot be evenly divided by the number of splits, NumPy ensures that the splits are as equal as possible.\n",
    "  * If there are leftover elements (i.e., the remainder when dividing the total number of elements by the number of splits), NumPy distributes them across the resulting sub-arrays.\n",
    "  * The earlier sub-arrays will receive one extra element until the remainder is exhausted, and the later sub-arrays will receive fewer elements."
   ]
  },
  {
   "cell_type": "markdown",
   "id": "d9a221d7-9c7c-477d-b6b4-9703b30292bf",
   "metadata": {},
   "source": [
    "Q10.  Explain the concepts of vectorization and broadcasting in NumPy. How do they contribute to efficient array\n",
    "operations?"
   ]
  },
  {
   "cell_type": "markdown",
   "id": "877affd7-ecb4-4610-ab54-e0ce14fd60b6",
   "metadata": {},
   "source": [
    "Ans. Vectorization in NumPy\n",
    "Vectorization in NumPy refers to the ability to perform operations on entire arrays, rather than iterating through each element one by one. This approach allows NumPy to apply operations element-wise in compiled, optimized code instead of interpreted Python code, leading to faster execution.\n",
    "\n",
    "Benefits of Vectorization:\n",
    "  * Improved performance: Operations are executed more efficiently using low-level, compiled C code.\n",
    "  * Simplified code: Eliminates the need for explicit loops, making the code cleaner and easier to understand.\n",
    "\n",
    "Broadcasting in NumPy\n",
    "Broadcasting is a technique that allows NumPy to perform arithmetic operations on arrays of different shapes without needing explicit reshaping or replication of the arrays. NumPy automatically adjusts the shape of the smaller array to match the larger array's shape in a way that minimizes memory usage.\n",
    "\n",
    "How Broadcasting Works:\n",
    "  * When performing operations between arrays of different shapes, NumPy compares their shapes starting from the rightmost dimension. If the dimensions are compatible (either they are the same or one of them is 1), broadcasting occurs.\n",
    "  * If the arrays' shapes are not compatible, NumPy raises an error.\n",
    "\n",
    "Contributions to Efficient Array Operations\n",
    "1. Performance Improvement:\n",
    "   * Vectorization allows for operations to be carried out without explicit loops, resulting in faster execution.\n",
    "   * Broadcasting enables operations on arrays of different shapes without duplicating data in memory, thus improving efficiency.\n",
    "2. Simplification of Code:\n",
    "   * Both techniques allow for cleaner and more concise code, removing the need for manual iteration or reshaping of arrays\n",
    "3. Memory Efficiency:\n",
    "   * Broadcasting reduces memory usage by avoiding the creation of large intermediate arrays and by performing operations directly on the smaller array's shape.\n",
    "4. Reduction in Python Overhead:\n",
    "   * With vectorization, the need for Python loops is eliminated, reducing the overhead of interpreted code and significantly enhancing performance."
   ]
  },
  {
   "cell_type": "markdown",
   "id": "98131d89-6150-43f5-93af-6016a017c041",
   "metadata": {},
   "source": [
    "Practical Questions:"
   ]
  },
  {
   "cell_type": "markdown",
   "id": "7bd83c89-3f99-402b-ad46-fd7d1b1ebc6a",
   "metadata": {},
   "source": [
    "Q1. Create a 3x3 NumPy array with random integers between 1 and 100. Then, interchange its rows and columns."
   ]
  },
  {
   "cell_type": "code",
   "execution_count": 12,
   "id": "44ca502f-a240-4888-a16a-6a39e32e222f",
   "metadata": {},
   "outputs": [
    {
     "name": "stdout",
     "output_type": "stream",
     "text": [
      "Original Array:\n",
      "[[36 87 29]\n",
      " [51 67 82]\n",
      " [68 48 89]]\n",
      "\n",
      "Transposed Array:\n",
      "[[36 51 68]\n",
      " [87 67 48]\n",
      " [29 82 89]]\n"
     ]
    }
   ],
   "source": [
    "import numpy as np\n",
    "\n",
    "# Create a 3x3 NumPy array with random integers between 1 and 100\n",
    "arr = np.random.randint(1, 101, size=(3, 3))\n",
    "\n",
    "# Interchange its rows and columns (transpose the array)\n",
    "transposed_arr = arr.T\n",
    "\n",
    "# Print the original and transposed arrays\n",
    "print(\"Original Array:\")\n",
    "print(arr)\n",
    "print(\"\\nTransposed Array:\")\n",
    "print(transposed_arr)\n"
   ]
  },
  {
   "cell_type": "markdown",
   "id": "85e51f16-5de4-4372-9b6b-d904b720b8f4",
   "metadata": {},
   "source": [
    "Q2. Generate a 1D NumPy array with 10 elements. Reshape it into a 2x5 array, then into a 5x2 array."
   ]
  },
  {
   "cell_type": "code",
   "execution_count": 13,
   "id": "d33d79fd-4c54-4e28-b65b-a9ee3733c809",
   "metadata": {},
   "outputs": [
    {
     "name": "stdout",
     "output_type": "stream",
     "text": [
      "Original 1D Array:\n",
      "[ 1  2  3  4  5  6  7  8  9 10]\n",
      "\n",
      "Reshaped to 2x5 Array:\n",
      "[[ 1  2  3  4  5]\n",
      " [ 6  7  8  9 10]]\n",
      "\n",
      "Reshaped to 5x2 Array:\n",
      "[[ 1  2]\n",
      " [ 3  4]\n",
      " [ 5  6]\n",
      " [ 7  8]\n",
      " [ 9 10]]\n"
     ]
    }
   ],
   "source": [
    "import numpy as np\n",
    "\n",
    "# Generate a 1D NumPy array with 10 elements\n",
    "arr_1d = np.arange(1, 11)\n",
    "\n",
    "# Reshape it into a 2x5 array\n",
    "arr_2x5 = arr_1d.reshape(2, 5)\n",
    "\n",
    "# Reshape it into a 5x2 array\n",
    "arr_5x2 = arr_1d.reshape(5, 2)\n",
    "\n",
    "# Print the original and reshaped arrays\n",
    "print(\"Original 1D Array:\")\n",
    "print(arr_1d)\n",
    "\n",
    "print(\"\\nReshaped to 2x5 Array:\")\n",
    "print(arr_2x5)\n",
    "\n",
    "print(\"\\nReshaped to 5x2 Array:\")\n",
    "print(arr_5x2)\n"
   ]
  },
  {
   "cell_type": "markdown",
   "id": "94ee86d6-e4dc-480b-a9fc-86afaa3cfd1c",
   "metadata": {},
   "source": [
    "Q3. Create a 4x4 NumPy array with random float values. Add a border of zeros around it, resulting in a 6x6 array."
   ]
  },
  {
   "cell_type": "code",
   "execution_count": 14,
   "id": "f6c30b9b-11dc-43db-b15b-0e54e22890a4",
   "metadata": {},
   "outputs": [
    {
     "name": "stdout",
     "output_type": "stream",
     "text": [
      "Original 4x4 Array:\n",
      "[[0.07857054 0.88480166 0.02576969 0.00562215]\n",
      " [0.99966631 0.92784229 0.95166192 0.54408344]\n",
      " [0.80499079 0.58855835 0.10754739 0.5203229 ]\n",
      " [0.86944453 0.77308444 0.86947547 0.46566993]]\n",
      "\n",
      "6x6 Array with Border of Zeros:\n",
      "[[0.         0.         0.         0.         0.         0.        ]\n",
      " [0.         0.07857054 0.88480166 0.02576969 0.00562215 0.        ]\n",
      " [0.         0.99966631 0.92784229 0.95166192 0.54408344 0.        ]\n",
      " [0.         0.80499079 0.58855835 0.10754739 0.5203229  0.        ]\n",
      " [0.         0.86944453 0.77308444 0.86947547 0.46566993 0.        ]\n",
      " [0.         0.         0.         0.         0.         0.        ]]\n"
     ]
    }
   ],
   "source": [
    "import numpy as np\n",
    "\n",
    "# Create a 4x4 NumPy array with random float values\n",
    "arr_4x4 = np.random.random((4, 4))\n",
    "\n",
    "# Add a border of zeros around it to create a 6x6 array\n",
    "arr_with_border = np.pad(arr_4x4, pad_width=1, mode='constant', constant_values=0)\n",
    "\n",
    "# Print the original and padded arrays\n",
    "print(\"Original 4x4 Array:\")\n",
    "print(arr_4x4)\n",
    "\n",
    "print(\"\\n6x6 Array with Border of Zeros:\")\n",
    "print(arr_with_border)\n"
   ]
  },
  {
   "cell_type": "markdown",
   "id": "6fb68c97-4528-4796-af9b-5b318682a1b8",
   "metadata": {},
   "source": [
    "Q4. Using NumPy, create an array of integers from 10 to 60 with a step of 5."
   ]
  },
  {
   "cell_type": "code",
   "execution_count": 15,
   "id": "20ba3e4d-1de8-460f-9daf-76882fd5e3f9",
   "metadata": {},
   "outputs": [
    {
     "name": "stdout",
     "output_type": "stream",
     "text": [
      "[10 15 20 25 30 35 40 45 50 55 60]\n"
     ]
    }
   ],
   "source": [
    "import numpy as np\n",
    "\n",
    "# Create an array of integers from 10 to 60 with a step of 5\n",
    "arr = np.arange(10, 61, 5)\n",
    "\n",
    "# Print the array\n",
    "print(arr)\n"
   ]
  },
  {
   "cell_type": "markdown",
   "id": "4b25d888-7bd0-4e85-a4cb-8c146510e40c",
   "metadata": {},
   "source": [
    "Q5. Create a NumPy array of strings ['python', 'numpy', 'pandas']. Apply different case transformations\n",
    "(uppercase, lowercase, title case, etc.) to each element."
   ]
  },
  {
   "cell_type": "code",
   "execution_count": 16,
   "id": "6ff043dd-2fa0-4780-a1c1-98f56b953723",
   "metadata": {},
   "outputs": [
    {
     "name": "stdout",
     "output_type": "stream",
     "text": [
      "Uppercase: ['PYTHON' 'NUMPY' 'PANDAS']\n",
      "Lowercase: ['python' 'numpy' 'pandas']\n",
      "Titlecase: ['Python' 'Numpy' 'Pandas']\n",
      "Capitalize: ['Python' 'Numpy' 'Pandas']\n"
     ]
    }
   ],
   "source": [
    "import numpy as np\n",
    "\n",
    "# Create a NumPy array of strings\n",
    "arr = np.array(['python', 'numpy', 'pandas'])\n",
    "\n",
    "# Apply different case transformations\n",
    "uppercase = np.char.upper(arr)\n",
    "lowercase = np.char.lower(arr)\n",
    "titlecase = np.char.title(arr)\n",
    "capitalize = np.char.capitalize(arr)\n",
    "\n",
    "# Print the transformed arrays\n",
    "print(\"Uppercase:\", uppercase)\n",
    "print(\"Lowercase:\", lowercase)\n",
    "print(\"Titlecase:\", titlecase)\n",
    "print(\"Capitalize:\", capitalize)\n"
   ]
  },
  {
   "cell_type": "markdown",
   "id": "ca057648-bf2a-4503-a037-6654dac2f149",
   "metadata": {},
   "source": [
    "Q6. Generate a NumPy array of words. Insert a space between each character of every word in the array"
   ]
  },
  {
   "cell_type": "code",
   "execution_count": 17,
   "id": "f6e78b58-a133-4de0-9459-3f6e88997793",
   "metadata": {},
   "outputs": [
    {
     "name": "stdout",
     "output_type": "stream",
     "text": [
      "['p y t h o n' 'n u m p y' 'p a n d a s']\n"
     ]
    }
   ],
   "source": [
    "import numpy as np\n",
    "\n",
    "# Create a NumPy array of words\n",
    "words_arr = np.array(['python', 'numpy', 'pandas'])\n",
    "\n",
    "# Insert a space between each character of every word in the array\n",
    "words_with_spaces = np.char.join(' ', words_arr)\n",
    "\n",
    "# Print the resulting array\n",
    "print(words_with_spaces)\n"
   ]
  },
  {
   "cell_type": "markdown",
   "id": "99b194dc-02d6-4a9d-8d45-5a9a31d1c795",
   "metadata": {},
   "source": [
    "Q7. Create two 2D NumPy arrays and perform element-wise addition, subtraction, multiplication, and division."
   ]
  },
  {
   "cell_type": "code",
   "execution_count": 18,
   "id": "69801c94-baaf-45cd-9e6e-953b67282acf",
   "metadata": {},
   "outputs": [
    {
     "name": "stdout",
     "output_type": "stream",
     "text": [
      "Addition:\n",
      "[[10 10 10]\n",
      " [10 10 10]\n",
      " [10 10 10]]\n",
      "\n",
      "Subtraction:\n",
      "[[-8 -6 -4]\n",
      " [-2  0  2]\n",
      " [ 4  6  8]]\n",
      "\n",
      "Multiplication:\n",
      "[[ 9 16 21]\n",
      " [24 25 24]\n",
      " [21 16  9]]\n",
      "\n",
      "Division:\n",
      "[[0.11111111 0.25       0.42857143]\n",
      " [0.66666667 1.         1.5       ]\n",
      " [2.33333333 4.         9.        ]]\n"
     ]
    }
   ],
   "source": [
    "import numpy as np\n",
    "\n",
    "# Create two 2D NumPy arrays\n",
    "arr1 = np.array([[1, 2, 3], [4, 5, 6], [7, 8, 9]])\n",
    "arr2 = np.array([[9, 8, 7], [6, 5, 4], [3, 2, 1]])\n",
    "\n",
    "# Perform element-wise addition, subtraction, multiplication, and division\n",
    "addition = arr1 + arr2\n",
    "subtraction = arr1 - arr2\n",
    "multiplication = arr1 * arr2\n",
    "division = arr1 / arr2\n",
    "\n",
    "# Print the results\n",
    "print(\"Addition:\")\n",
    "print(addition)\n",
    "print(\"\\nSubtraction:\")\n",
    "print(subtraction)\n",
    "print(\"\\nMultiplication:\")\n",
    "print(multiplication)\n",
    "print(\"\\nDivision:\")\n",
    "print(division)\n"
   ]
  },
  {
   "cell_type": "markdown",
   "id": "a9bf73b0-51cc-4169-a284-8f20ca62670b",
   "metadata": {},
   "source": [
    "Q8. Use NumPy to create a 5x5 identity matrix, then extract its diagonal elements."
   ]
  },
  {
   "cell_type": "code",
   "execution_count": 19,
   "id": "eeec31a0-91af-447e-97e3-86c3f6acfc26",
   "metadata": {},
   "outputs": [
    {
     "name": "stdout",
     "output_type": "stream",
     "text": [
      "Identity Matrix:\n",
      "[[1. 0. 0. 0. 0.]\n",
      " [0. 1. 0. 0. 0.]\n",
      " [0. 0. 1. 0. 0.]\n",
      " [0. 0. 0. 1. 0.]\n",
      " [0. 0. 0. 0. 1.]]\n",
      "\n",
      "Diagonal Elements:\n",
      "[1. 1. 1. 1. 1.]\n"
     ]
    }
   ],
   "source": [
    "import numpy as np\n",
    "\n",
    "# Create a 5x5 identity matrix\n",
    "identity_matrix = np.eye(5)\n",
    "\n",
    "# Extract the diagonal elements\n",
    "diagonal_elements = np.diagonal(identity_matrix)\n",
    "\n",
    "# Print the identity matrix and the diagonal elements\n",
    "print(\"Identity Matrix:\")\n",
    "print(identity_matrix)\n",
    "\n",
    "print(\"\\nDiagonal Elements:\")\n",
    "print(diagonal_elements)\n"
   ]
  },
  {
   "cell_type": "markdown",
   "id": "be9e01c2-036e-493b-bc86-656e734bd31f",
   "metadata": {},
   "source": [
    "Q9.  Generate a NumPy array of 100 random integers between 0 and 1000. Find and display all prime numbers in\n",
    "this array."
   ]
  },
  {
   "cell_type": "code",
   "execution_count": 20,
   "id": "d796fca2-4f38-4d4f-a574-febb380efbbb",
   "metadata": {},
   "outputs": [
    {
     "name": "stdout",
     "output_type": "stream",
     "text": [
      "Array of Random Integers:\n",
      "[ 88 462 529 876  70 408 913 923 500 565 349 742 721 450 627 446 148 987\n",
      " 547 351 135 613 912 269 576 247 218 651 338 704 611 637 364 137 581 325\n",
      " 832 718 149 694 457 494  88 460 984 765 442  66 418 262 134 794 722 603\n",
      " 127 418 228 972  49 297 199 543 672 550 130 269 329 545  91 528 421 510\n",
      " 409  82 122 472 292 130 300 480 737 785 235 218 829 900 766 570  78  97\n",
      " 319 208 705 667 635 605 867 272 554 810]\n",
      "\n",
      "Prime Numbers in the Array:\n",
      "[np.int32(349), np.int32(547), np.int32(613), np.int32(269), np.int32(137), np.int32(149), np.int32(457), np.int32(127), np.int32(199), np.int32(269), np.int32(421), np.int32(409), np.int32(829), np.int32(97)]\n"
     ]
    }
   ],
   "source": [
    "import numpy as np\n",
    "\n",
    "# Generate a NumPy array of 100 random integers between 0 and 1000\n",
    "arr = np.random.randint(0, 1001, size=100)\n",
    "\n",
    "# Function to check if a number is prime\n",
    "def is_prime(num):\n",
    "    if num < 2:\n",
    "        return False\n",
    "    for i in range(2, int(num ** 0.5) + 1):\n",
    "        if num % i == 0:\n",
    "            return False\n",
    "    return True\n",
    "\n",
    "# Find all prime numbers in the array\n",
    "prime_numbers = [num for num in arr if is_prime(num)]\n",
    "\n",
    "# Print the array and the prime numbers\n",
    "print(\"Array of Random Integers:\")\n",
    "print(arr)\n",
    "\n",
    "print(\"\\nPrime Numbers in the Array:\")\n",
    "print(prime_numbers)\n"
   ]
  },
  {
   "cell_type": "markdown",
   "id": "96df67d1-f9fb-44a9-972c-9edd9858decb",
   "metadata": {},
   "source": [
    "Q10.  Create a NumPy array representing daily temperatures for a month. Calculate and display the weekly\n",
    "averages."
   ]
  },
  {
   "cell_type": "code",
   "execution_count": 25,
   "id": "aced0eda-aef8-4012-b9b6-fe4572e0a922",
   "metadata": {},
   "outputs": [
    {
     "name": "stdout",
     "output_type": "stream",
     "text": [
      "Daily Temperatures for the Month:\n",
      "[30.7824224  34.61666846 26.11298103 21.55062196 16.82879647 28.71987721\n",
      " 32.68350414 24.23117129 31.37785408 22.77561473 17.20214447 26.89521927\n",
      " 19.40133671 17.95275394 25.32267184 18.17568591 21.41090684 34.18501514\n",
      " 30.73633979 18.34155575 31.17323864 15.99400933 20.56720632 16.35235964\n",
      " 34.7906102  20.69307206 24.72198942 19.41662773 18.1934261  20.55701008]\n",
      "\n",
      "Weekly Averages:\n",
      "[25.97829806 25.65405774 20.45267105 23.36246997 23.5631451 ]\n"
     ]
    }
   ],
   "source": [
    "import numpy as np\n",
    "\n",
    "# Generate a NumPy array representing daily temperatures for a month (30 days)\n",
    "daily_temperatures = np.random.uniform(15, 35, size=30)\n",
    "\n",
    "# Calculate weekly averages by splitting the array into 4 weeks (5 days in each week)\n",
    "weekly_averages = daily_temperatures.reshape(5, 6)[:, :5].mean(axis=1)\n",
    "\n",
    "# Print the daily temperatures and weekly averages\n",
    "print(\"Daily Temperatures for the Month:\")\n",
    "print(daily_temperatures)\n",
    "\n",
    "print(\"\\nWeekly Averages:\")\n",
    "print(weekly_averages)\n",
    "\n"
   ]
  }
 ],
 "metadata": {
  "kernelspec": {
   "display_name": "Python 3 (ipykernel)",
   "language": "python",
   "name": "python3"
  },
  "language_info": {
   "codemirror_mode": {
    "name": "ipython",
    "version": 3
   },
   "file_extension": ".py",
   "mimetype": "text/x-python",
   "name": "python",
   "nbconvert_exporter": "python",
   "pygments_lexer": "ipython3",
   "version": "3.12.6"
  }
 },
 "nbformat": 4,
 "nbformat_minor": 5
}
